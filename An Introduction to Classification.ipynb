{
 "cells": [
  {
   "cell_type": "markdown",
   "metadata": {},
   "source": [
    "# An Introduction to Classification\n",
    "\n",
    "* Contingency Tables Revisited\n",
    "    * odds\n",
    "    * other hypothesis tests\n",
    "* Logistic Regression\n",
    "    * log odds\n",
    "    * connection to linear regression\n",
    "    * interpretation\n",
    "    * parameters in scikit-learn\n",
    "    * decision function\n",
    "    * precision \n",
    "    * recall\n",
    "    * f1 score\n",
    "    * MCC\n",
    "    * "
   ]
  },
  {
   "cell_type": "code",
   "execution_count": null,
   "metadata": {},
   "outputs": [],
   "source": []
  }
 ],
 "metadata": {
  "kernelspec": {
   "display_name": "Python 3",
   "language": "python",
   "name": "python3"
  },
  "language_info": {
   "codemirror_mode": {
    "name": "ipython",
    "version": 3
   },
   "file_extension": ".py",
   "mimetype": "text/x-python",
   "name": "python",
   "nbconvert_exporter": "python",
   "pygments_lexer": "ipython3",
   "version": "3.6.9"
  }
 },
 "nbformat": 4,
 "nbformat_minor": 2
}
