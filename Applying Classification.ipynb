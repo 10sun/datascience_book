{
 "cells": [
  {
   "cell_type": "markdown",
   "metadata": {},
   "source": [
    "# Applying Classification\n",
    "\n",
    "In this chapter we'll look at a few examples of applying classification.  We'll start by looking at A/B testing like we did for applying hypothesis testing.  Then we'll move onto an example with customer churn.  We'll end the chapter with an example of credit card fraud.  \n",
    "\n",
    "## A/B Testing\n",
    "\n",
    "Recall from the Applying Statistical Tests chapter we want to send an email about a towel sale.  We will have both a control and test group - one in which something about the email changed (test) and one in which the email stays the same as in the past (control).  We will use these two samples to set up an experiment.  Did changing the email effect things?\n",
    "\n",
    "Last time we answered this question with hypothesis testing.  Now we will answer it with a classifier!\n",
    "\n",
    "### Recall Set Up\n",
    "\n",
    "In order to test this question, we can set up an experiment.  Here we will set up a randomized test group and a randomized control group.  \n",
    "\n",
    "The test group will be sent an email, with slightly different copy, or possibly with a picture.  Some specific change will be made, in any event.\n",
    "\n",
    "The control group will get the same email as last time.  This way, we can directly compare, as much as possible between the old email and the new one.  There are many things you typically need to control for, or account for in experimental design.  Some things to account for in this scenario are:\n",
    "\n",
    "1) Age\n",
    "\n",
    "2) Gender\n",
    "\n",
    "3) Location\n",
    "\n",
    "4) Time of Day\n",
    "\n",
    "5) Time of Year\n",
    "\n",
    "6) Approximate Disposable Income\n",
    "\n",
    "\n",
    "## Simulating Some Data"
   ]
  },
  {
   "cell_type": "code",
   "execution_count": 41,
   "metadata": {},
   "outputs": [],
   "source": [
    "import warnings\n",
    "warnings.filterwarnings('ignore')"
   ]
  },
  {
   "cell_type": "code",
   "execution_count": 157,
   "metadata": {},
   "outputs": [
    {
     "name": "stdout",
     "output_type": "stream",
     "text": [
      "1    2787\n",
      "0    2213\n",
      "Name: converted, dtype: int64\n",
      "0    4418\n",
      "1     582\n",
      "Name: converted, dtype: int64\n"
     ]
    }
   ],
   "source": [
    "import random\n",
    "import pandas as pd\n",
    "import numpy as np\n",
    "\n",
    "def generate_data(df, column, choices, size):\n",
    "    \"\"\"\n",
    "    Generates categorical data given choices.\n",
    "    \n",
    "    Parameters:\n",
    "    * df - pd.DataFrame: the data to add a column to\n",
    "    * column - str: the column to generate\n",
    "    * choices - list: the list of possible choices\n",
    "    \n",
    "    Returns:\n",
    "    A dataframe with the newly generated column.\n",
    "    \"\"\"\n",
    "    df[column] = [random.choice(choices)\n",
    "                  for _ in range(size)]\n",
    "    df = pd.concat([df, pd.get_dummies(df[column])], axis=1)\n",
    "    df = df.drop(column, axis=1)\n",
    "    return df\n",
    "\n",
    "def converted_score(x):\n",
    "    if x[\"male\"] == 1:\n",
    "        gender = 0.7\n",
    "    elif x[\"female\"] == 1:\n",
    "        gender = 1.4\n",
    "    if x[\"white\"] == 1:\n",
    "        race = 0.5\n",
    "    elif x[\"black\"] == 1:\n",
    "        race = 1.4\n",
    "    elif x[\"asian\"] == 1:\n",
    "        race = 2.8\n",
    "    elif x[\"hispanic\"] == 1:\n",
    "        race = 3.7\n",
    "    salary_alpha = gender * race\n",
    "    age_alpha = gender + race\n",
    "    return salary_alpha * x[\"salary\"] + age_alpha * x[\"age\"]\n",
    "\n",
    "def decision_boundary(result):\n",
    "    if result > 250000:\n",
    "        return 1\n",
    "    else:\n",
    "        return 0\n",
    "    \n",
    "size = 5000\n",
    "test_df = pd.DataFrame()\n",
    "control_df = pd.DataFrame()\n",
    "gender_choices = [\"male\", \"female\"]\n",
    "race_choices = [\"white\", \"black\", \"asian\", \"hispanic\"]\n",
    "test_salary_mean = 150000\n",
    "test_salary_variance = 30000 \n",
    "control_salary_mean = 55000\n",
    "control_salary_variance = 2000\n",
    "\n",
    "test_df = generate_data(test_df, \"gender\", gender_choices, size)\n",
    "test_df = generate_data(test_df, \"race\", race_choices, size)\n",
    "test_df[\"age\"] = np.random.normal(50, 25, size=len(test_df))\n",
    "test_df[\"age\"] = test_df[\"age\"].astype(int)\n",
    "test_df[\"salary\"] = np.random.normal(test_salary_mean, \n",
    "                                     test_salary_variance, \n",
    "                                     size=len(test_df))\n",
    "test_df[\"salary\"] = test_df[\"salary\"].apply(lambda x: round(x, 2))\n",
    "\n",
    "test_df[\"converted\"] = test_df.apply(converted_score, axis=1)\n",
    "test_df[\"converted\"] = test_df[\"converted\"].apply(decision_boundary)\n",
    "\n",
    "control_df = generate_data(control_df, \"gender\", gender_choices, size)\n",
    "control_df = generate_data(control_df, \"race\", race_choices, size)\n",
    "control_df[\"age\"] = np.random.normal(50, 25, size=len(control_df))\n",
    "control_df[\"age\"] = control_df[\"age\"].astype(int)\n",
    "control_df[\"salary\"] = np.random.normal(control_salary_mean, \n",
    "                                        control_salary_variance, \n",
    "                                        size=len(control_df))\n",
    "control_df[\"salary\"] = control_df[\"salary\"].apply(lambda x: round(x, 2))\n",
    "control_df[\"converted\"] = control_df.apply(converted_score, axis=1)\n",
    "control_df[\"converted\"] = control_df[\"converted\"].apply(decision_boundary)\n",
    "\n",
    "print(test_df[\"converted\"].value_counts())\n",
    "print(control_df[\"converted\"].value_counts())"
   ]
  },
  {
   "cell_type": "markdown",
   "metadata": {},
   "source": [
    "Here's where things get different! The next step is now to model our test and control and see if the probability of conversion is higher or lower for our test and control sets.  If they are the same or similar then our change likely had little effect.  Of course you should verify this with multiple tests as well as cross validation if possible."
   ]
  },
  {
   "cell_type": "code",
   "execution_count": 180,
   "metadata": {},
   "outputs": [
    {
     "name": "stdout",
     "output_type": "stream",
     "text": [
      "              precision    recall  f1-score   support\n",
      "\n",
      "           0       1.00      0.94      0.97       528\n",
      "           1       0.96      1.00      0.98       722\n",
      "\n",
      "    accuracy                           0.97      1250\n",
      "   macro avg       0.98      0.97      0.97      1250\n",
      "weighted avg       0.97      0.97      0.97      1250\n",
      "\n",
      "ROC AUC 0.9692588978426929\n"
     ]
    },
    {
     "data": {
      "image/png": "[encoded data removed]",
      "text/plain": [
       "<Figure size 432x288 with 1 Axes>"
      ]
     },
     "metadata": {
      "needs_background": "light"
     },
     "output_type": "display_data"
    },
    {
     "data": {
      "image/png": "[encoded data removed]",
      "text/plain": [
       "<Figure size 432x288 with 1 Axes>"
      ]
     },
     "metadata": {
      "needs_background": "light"
     },
     "output_type": "display_data"
    },
    {
     "data": {
      "image/png": "[encoded data removed]",
      "text/plain": [
       "<Figure size 432x288 with 1 Axes>"
      ]
     },
     "metadata": {
      "needs_background": "light"
     },
     "output_type": "display_data"
    }
   ],
   "source": [
    "from sklearn.linear_model import LogisticRegression\n",
    "from sklearn.model_selection import train_test_split\n",
    "from sklearn.metrics import classification_report, roc_auc_score\n",
    "import matplotlib.pyplot as plt\n",
    "import numpy as np\n",
    "\n",
    "augmented_df = test_df.copy()\n",
    "augmented_y = augmented_df[\"converted\"]\n",
    "cols = augmented_df.columns.tolist()\n",
    "cols.remove(\"converted\")\n",
    "augmented_X = augmented_df[cols]\n",
    "\n",
    "X_train, X_test, y_train, y_test = train_test_split(\n",
    "    augmented_X, augmented_y\n",
    ")\n",
    "clf = LogisticRegression(\n",
    "    max_iter=1000, class_weight=\"balanced\", \n",
    "    C=100, penalty=\"l2\", solver=\"liblinear\"\n",
    ")\n",
    "clf.fit(X_train, y_train)\n",
    "y_pred = clf.predict(X_test)\n",
    "print(classification_report(y_test, y_pred))\n",
    "print(\"ROC AUC\", roc_auc_score(y_test, y_pred))\n",
    "plt.hist(clf.predict_proba(X_test).T[0])\n",
    "plt.title('Did Not Convert Probability Distribution')\n",
    "plt.show()\n",
    "plt.hist(clf.predict_proba(X_test).T[1])\n",
    "plt.title('Did Convert Probability Distribution')\n",
    "plt.show()\n",
    "ig, ax = plt.subplots(tight_layout=True)\n",
    "hist = ax.hist2d(clf.predict_proba(X_test).T[0], clf.predict_proba(X_test).T[1])\n",
    "plt.title('Combined Probability Distribution')\n",
    "plt.show()"
   ]
  },
  {
   "cell_type": "code",
   "execution_count": 181,
   "metadata": {},
   "outputs": [
    {
     "name": "stdout",
     "output_type": "stream",
     "text": [
      "              precision    recall  f1-score   support\n",
      "\n",
      "           0       1.00      1.00      1.00      1096\n",
      "           1       1.00      1.00      1.00       154\n",
      "\n",
      "    accuracy                           1.00      1250\n",
      "   macro avg       1.00      1.00      1.00      1250\n",
      "weighted avg       1.00      1.00      1.00      1250\n",
      "\n",
      "ROC AUC 1.0\n"
     ]
    },
    {
     "data": {
      "image/png": "[encoded data removed]",
      "text/plain": [
       "<Figure size 432x288 with 1 Axes>"
      ]
     },
     "metadata": {
      "needs_background": "light"
     },
     "output_type": "display_data"
    },
    {
     "data": {
      "image/png": "[encoded data removed]",
      "text/plain": [
       "<Figure size 432x288 with 1 Axes>"
      ]
     },
     "metadata": {
      "needs_background": "light"
     },
     "output_type": "display_data"
    },
    {
     "data": {
      "image/png": "[encoded data removed]",
      "text/plain": [
       "<Figure size 432x288 with 1 Axes>"
      ]
     },
     "metadata": {
      "needs_background": "light"
     },
     "output_type": "display_data"
    }
   ],
   "source": [
    "from sklearn.linear_model import LogisticRegression\n",
    "from sklearn.model_selection import train_test_split\n",
    "from sklearn.metrics import classification_report, roc_auc_score\n",
    "import matplotlib.pyplot as plt\n",
    "import numpy as np\n",
    "\n",
    "control_y = control_df[\"converted\"]\n",
    "cols = control_df.columns.tolist()\n",
    "cols.remove(\"converted\")\n",
    "control_X = control_df[cols]\n",
    "\n",
    "X_train, X_test, y_train, y_test = train_test_split(\n",
    "    control_X, control_y\n",
    ")\n",
    "clf = LogisticRegression(\n",
    "    max_iter=1000, class_weight=\"balanced\", \n",
    "    C=100, penalty=\"l2\", solver=\"liblinear\"\n",
    ")\n",
    "clf.fit(X_train, y_train)\n",
    "y_pred = clf.predict(X_test)\n",
    "print(classification_report(y_test, y_pred))\n",
    "print(\"ROC AUC\", roc_auc_score(y_test, y_pred))\n",
    "plt.hist(clf.predict_proba(X_test).T[0])\n",
    "plt.title('Did Not Convert Probability Distribution')\n",
    "plt.show()\n",
    "plt.hist(clf.predict_proba(X_test).T[1])\n",
    "plt.title('Did Convert Probability Distribution')\n",
    "plt.show()\n",
    "ig, ax = plt.subplots(tight_layout=True)\n",
    "hist = ax.hist2d(clf.predict_proba(X_test).T[0], clf.predict_proba(X_test).T[1])\n",
    "plt.title('Combined Probability Distribution')\n",
    "plt.show()"
   ]
  },
  {
   "cell_type": "code",
   "execution_count": null,
   "metadata": {},
   "outputs": [],
   "source": []
  }
 ],
 "metadata": {
  "kernelspec": {
   "display_name": "Python 3",
   "language": "python",
   "name": "python3"
  },
  "language_info": {
   "codemirror_mode": {
    "name": "ipython",
    "version": 3
   },
   "file_extension": ".py",
   "mimetype": "text/x-python",
   "name": "python",
   "nbconvert_exporter": "python",
   "pygments_lexer": "ipython3",
   "version": "3.6.9"
  }
 },
 "nbformat": 4,
 "nbformat_minor": 2
}
