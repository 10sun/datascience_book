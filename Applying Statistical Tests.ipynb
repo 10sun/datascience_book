{
 "cells": [
  {
   "cell_type": "markdown",
   "metadata": {},
   "source": [
    "# Applied Statistical Tests\n",
    "\n",
    "In the previous chapter we introduced descriptive statistics and hypothesis testing.  In this chapter we will make extensive use of the concepts covered to introduce you to:\n",
    "\n",
    "* A/B testing\n",
    "* Multivariate testing\n",
    "\n",
    "## A/B Testing\n",
    "\n",
    "The foundational idea behind A/B testing is, what if we changed just one thing, would that matter?  More specifically, what if we presented two variants of one thing to a group of people, would there be a difference?\n",
    "\n",
    "Let's start with an example.\n",
    "\n",
    "### Inquiry\n",
    "\n",
    "Suppose you work for a company that makes towels, and they want to send an email, like they've done many times in the past, to see how much this email affects sale of their towels.  Now let's say that, in the past 10 percent of the people sent the email bought a towel.  But, we aren't sure if this email maximizes profits.  In other words, would a different email mean we make more profit?  \n",
    "\n",
    "### Set Up\n",
    "\n",
    "In order to test this question, we can set up an experiment.  Here we will set up a randomized test group and a randomized control group.  \n",
    "\n",
    "The test group will be sent an email, with slightly different copy, or possibly with a picture.  Some specific change will be made, in any event.\n",
    "\n",
    "The control group will get the same email as last time.  This way, we can directly compare, as much as possible between the old email and the new one.  There are many things you typically need to control for, or account for in experimental design.  Some things to account for in this scenario are:\n",
    "\n",
    "1) Age\n",
    "\n",
    "2) Gender\n",
    "\n",
    "3) Location\n",
    "\n",
    "4) Time of Day\n",
    "\n",
    "5) Time of Year\n",
    "\n",
    "6) Approximate Disposable Income\n",
    "\n",
    "By setting up the experiment with a test and control group, we account for time of day and time of year directly.  Some of the other information like location, age, gender, and approximate disposable income; we may not be able to account for.  Some of this may be accounted by selecting randomly from our population.  But there is no guarantee of that.  It is best to account for as many variables of interest as you can, while remaining ethical.  We will cover the ethics of variable accounting in the next section in detail.\n",
    "\n",
    "### Running Our Example\n",
    "\n",
    "In order to evaluate our set up, we will assume that our conversion rate follows a Bernoulli random variable.\n",
    "\n",
    "### Bernoulli Random Variables\n",
    "\n",
    "Informally, we can think of a Bernoulli random variable as a model for the set of possible outcomes of any single experiment.\n",
    "\n",
    "Specifically, a Bernoulli random variable takes on value '1' with probably `p`, and value '0' with probability `1-p`.  \n",
    "\n",
    "For our case, a value of '1' represents a person who chose to buy a towel by going to the website after reading our email.  The value of '0' represents no towel being bought after reading our email.\n",
    "\n",
    "### An Aside Regarding Assumptions\n",
    "\n",
    "By setting up our experiment in this way, we have actually assumed quiet a bit.  Let's formally state our assumptions here.  It is good practice, generally speaking to always list out your assumptions and confirm with a domain experiment, someone who knows the problem, but maybe not the statistics, before caring out any experiments.  If you work in a place where tasks are created for you, then before you get started, it's a good idea to confirm with the person who created the task, to make sure you are both aligned on assumptions.\n",
    "\n",
    "### Making Our Assumptions Explicit\n",
    "\n",
    "1) We assume here that the only reason a person would buy a towel is because of this email.\n",
    "\n",
    "This is a pretty strong assumption.  Specifically we are only looking at the marginal effect of changing the language in an email.  It could be the case that our entire control group or our entire test group happened to need a new towel, and this email reminded them.  It could be all of the people in group one or group two just moved, and didn't have _any_ towels.  Or it could be that everyone in a group always buys things due to a sale.  \n",
    "\n",
    "We could control for some of this stuff, which will be touched upon in a later section.  But for now, we aren't controlling for any of it.  \n",
    "\n",
    "2) We assume non-uniformity of preferences.\n",
    "\n",
    "A preference is a propensity or likelihood to consume a product, given the choice to consume it and the ability.  So if you are more likely to consume chocolate ice cream over vanilla ice cream given the choice between the two, and the money to buy either, then we say you have a preference for chocolate ice cream.\n",
    "\n",
    "By assuming non-uniformity of preferences, we are saying, implicitly that there is some utility function for towels for each individual.  And that at price `towel_price`, you will not buy, because it would cost more than the utility you would derive.  But at price `towel_sale_price`, you will buy, because it would cost less than the utility you would derive.\n",
    "\n",
    "3) We assume evenly distributed life circumstances.\n",
    "\n",
    "We assume everyone on this email is capable of buying a towel from us.  This may seem like a riddiculous assumption, but what it's really not.  You have no idea what circumstance someone is in.\n",
    "\n",
    "4) We assume evenly distributed access to the email\n",
    "\n",
    "What if everyone who didn't buy a towel deactivated their email, or died, or doesn't speak english, or possibly, that their email client filtered out the email.  If we don't know for sure, we don't know the effectiveness of the email campaign.\n",
    "\n",
    "The reason it's important to explicitly state your assumptions, is not necessarily for the code itself.  Although it can inform the tests you run or the models you create.  The most important reason to write down your assumptions is for future people working with your code, which is more often than not yourself, as well as for your managers.  \n",
    "\n",
    "## Simulating Some Data"
   ]
  },
  {
   "cell_type": "code",
   "execution_count": 88,
   "metadata": {},
   "outputs": [],
   "source": [
    "from scipy import stats\n",
    "\n",
    "test_size = 1000\n",
    "control_size = 1000\n",
    "test_probability = 0.15\n",
    "control_probability = 0.1\n",
    "test_dist = stats.bernoulli(test_probability)\n",
    "control_dist = stats.bernoulli(control_probability)"
   ]
  },
  {
   "cell_type": "markdown",
   "metadata": {},
   "source": [
    "Note: we don't actually know the test probability, so \"pretend\" you can't see it.  We wouldn't know this for the population in the real world.  Also, we probably can't be \"sure\" our process follows a Bernoulli random variable.  It could be some other generative process, like this:"
   ]
  },
  {
   "cell_type": "code",
   "execution_count": 89,
   "metadata": {},
   "outputs": [
    {
     "data": {
      "text/plain": [
       "[0, 1, 1, 1, 1, 1, 0, 0, 1, 0]"
      ]
     },
     "execution_count": 89,
     "metadata": {},
     "output_type": "execute_result"
    }
   ],
   "source": [
    "import random\n",
    "\n",
    "def generative_process():\n",
    "    random_number = random.randint(0, 100)\n",
    "    if random_number < 15:\n",
    "        return 1\n",
    "    elif random_number % 2 == 0:\n",
    "        return 0\n",
    "    else:\n",
    "        return 1\n",
    "    \n",
    "[generative_process() for _ in range(10)]"
   ]
  },
  {
   "cell_type": "markdown",
   "metadata": {},
   "source": [
    "The important difference here is there are multiple cases by which our generative process outputs a '1', which we may be important!  The more you know about your underlying data generation process, the better.  But usually it is impossible to discern this.  The important thing to note is, this is an assumption."
   ]
  },
  {
   "cell_type": "code",
   "execution_count": 90,
   "metadata": {},
   "outputs": [],
   "source": [
    "import pandas as pd\n",
    "import numpy as np\n",
    "\n",
    "test_df = pd.DataFrame()\n",
    "test_df[\"converted\"] = test_dist.rvs(size=test_size)\n",
    "test_df[\"group\"] = \"test\"\n",
    "control_df = pd.DataFrame()\n",
    "control_df[\"converted\"] = control_dist.rvs(size=control_size)\n",
    "control_df[\"group\"] = \"control\"\n",
    "df = test_df.append(control_df)"
   ]
  },
  {
   "cell_type": "code",
   "execution_count": 91,
   "metadata": {},
   "outputs": [
    {
     "data": {
      "text/html": [
       "<div>\n",
       "<style scoped>\n",
       "    .dataframe tbody tr th:only-of-type {\n",
       "        vertical-align: middle;\n",
       "    }\n",
       "\n",
       "    .dataframe tbody tr th {\n",
       "        vertical-align: top;\n",
       "    }\n",
       "\n",
       "    .dataframe thead th {\n",
       "        text-align: right;\n",
       "    }\n",
       "</style>\n",
       "<table border=\"1\" class=\"dataframe\">\n",
       "  <thead>\n",
       "    <tr style=\"text-align: right;\">\n",
       "      <th></th>\n",
       "      <th>converted</th>\n",
       "      <th>total</th>\n",
       "      <th>rate</th>\n",
       "    </tr>\n",
       "    <tr>\n",
       "      <th>group</th>\n",
       "      <th></th>\n",
       "      <th></th>\n",
       "      <th></th>\n",
       "    </tr>\n",
       "  </thead>\n",
       "  <tbody>\n",
       "    <tr>\n",
       "      <th>control</th>\n",
       "      <td>106</td>\n",
       "      <td>1000</td>\n",
       "      <td>0.106</td>\n",
       "    </tr>\n",
       "    <tr>\n",
       "      <th>test</th>\n",
       "      <td>137</td>\n",
       "      <td>1000</td>\n",
       "      <td>0.137</td>\n",
       "    </tr>\n",
       "  </tbody>\n",
       "</table>\n",
       "</div>"
      ],
      "text/plain": [
       "         converted  total   rate\n",
       "group                           \n",
       "control        106   1000  0.106\n",
       "test           137   1000  0.137"
      ]
     },
     "execution_count": 91,
     "metadata": {},
     "output_type": "execute_result"
    }
   ],
   "source": [
    "summary = df.pivot_table(values='converted', index='group', aggfunc=np.sum)\n",
    "# add additional columns to the pivot table\n",
    "summary['total'] = df.pivot_table(values='converted', index='group', aggfunc=lambda x: len(x))\n",
    "summary['rate'] = df.pivot_table(values='converted', index='group')\n",
    "summary"
   ]
  },
  {
   "cell_type": "markdown",
   "metadata": {},
   "source": [
    "We may believe our test was successful at this point, and in fact, we are done.  However, how do we know that our test was successful?  How do we know that the two samples differences weren't just because of demographic differences?  Time to verify against all of the assumptions we made in the prior section!\n",
    "\n",
    "In order to do this we will look at the chi-squared test.  Recall, the chi-squared test's null hypothesis states the two variables are independent.  One could also think of the null hypothesis as, \"is there a statistically significant difference between the expected frequencies and the observed frequencies in one or more categories of a contingency table\".  \n",
    "\n",
    "This sounds perfect!  So let's bring in our other variables:\n",
    "\n",
    "* Age\n",
    "* Gender\n",
    "* Location\n",
    "* Race\n",
    "\n",
    "Note: Here we assume that location is a proxy for income.  So we'll specify location as high, medium and low; where high means an expensive area to live, medium means a middle class area to live, and low means a poor area to live.\n",
    "\n",
    "Note: We will specify Gender as a binary variable.  While in the real world this assumption is not valid, we will make this simplifying assumption here.\n",
    "\n",
    "Note: For Race we will specify one of four categories:\n",
    "* white\n",
    "* black\n",
    "* asian\n",
    "* hispanic\n",
    "\n",
    "While this does not encompass all of the races, it works as a simplifying set of assumptions, for this example.\n",
    "\n",
    "Note: For Age we will specify one of five categories:\n",
    "* 18-24\n",
    "* 24-35\n",
    "* 35 - 50\n",
    "* 50 - 70\n",
    "* 70+\n",
    "\n",
    "Now let's generate some data:"
   ]
  },
  {
   "cell_type": "code",
   "execution_count": 92,
   "metadata": {},
   "outputs": [],
   "source": [
    "import random\n",
    "\n",
    "def generate_data(df, column, choices):\n",
    "    \"\"\"\n",
    "    Generates categorical data given choices.\n",
    "    \n",
    "    Parameters:\n",
    "    * df - pd.DataFrame: the data to add a column to\n",
    "    * column - str: the column to generate\n",
    "    * choices - list: the list of possible choices\n",
    "    \n",
    "    Returns:\n",
    "    A dataframe with the newly generated column.\n",
    "    \"\"\"\n",
    "    df[column] = [random.choice(choices)\n",
    "                  for _ in range(df.shape[0])]\n",
    "    df = pd.concat([df, pd.get_dummies(df[column])], axis=1)\n",
    "    df = df.drop(column, axis=1)\n",
    "    return df\n",
    "\n",
    "def generate_contingency_table(df, demographics):\n",
    "    \"\"\"\n",
    "    Generates a contingency table from a list of choices.\n",
    "    We hard code converted, because that is 'always' one of the variables of interest.\n",
    "    \n",
    "    Parameters:\n",
    "    * df - pd.DataFrame: the dataframe to convert to a contingency table.\n",
    "    * demographics - list: a list of demographics, aka the classes from\n",
    "    all categorical classes of interest.\n",
    "    \n",
    "    Note: one way to get the demographics is:\n",
    "    categories = []\n",
    "    for column in categorical_columns:\n",
    "        categories += list(df[column].unique())\n",
    "    \"\"\"\n",
    "    summary = df.pivot_table(values='converted', index='group', aggfunc=np.sum)\n",
    "    for demographic in demographics:\n",
    "        summary[demographic] = df.pivot_table(\n",
    "            values=demographic,\n",
    "            index=\"group\",\n",
    "            aggfunc=np.sum\n",
    "        )\n",
    "    return summary\n",
    "\n",
    "gender_choices = [\"male\", \"female\"]\n",
    "age_choices = [\"18-24\", \"24-35\", \"35-50\", \"50-70\", \"70+\"]\n",
    "race_choices = [\"white\", \"black\", \"asian\", \"hispanic\"]\n",
    "location_choices = [\"high\", \"medium\", \"low\"]\n",
    "\n",
    "test_df = generate_data(test_df, \"gender\", gender_choices)\n",
    "test_df = generate_data(test_df, \"age\", age_choices)\n",
    "test_df = generate_data(test_df, \"race\", race_choices)\n",
    "test_df = generate_data(test_df, \"location\", location_choices)\n",
    "control_df = generate_data(control_df, \"gender\", gender_choices)\n",
    "control_df = generate_data(control_df, \"age\", age_choices)\n",
    "control_df = generate_data(control_df, \"race\", race_choices)\n",
    "control_df = generate_data(control_df, \"location\", location_choices)\n",
    "\n",
    "df = pd.DataFrame()\n",
    "df = df.append(test_df)\n",
    "df = df.append(control_df)\n",
    "\n",
    "# does list concatenation\n",
    "demographics = gender_choices + age_choices + race_choices + location_choices\n",
    "table = generate_contingency_table(df, demographics)"
   ]
  },
  {
   "cell_type": "markdown",
   "metadata": {},
   "source": [
    "Before we run our hypothesis test, let's look at our contingency table!"
   ]
  },
  {
   "cell_type": "code",
   "execution_count": 93,
   "metadata": {},
   "outputs": [
    {
     "data": {
      "text/html": [
       "<div>\n",
       "<style scoped>\n",
       "    .dataframe tbody tr th:only-of-type {\n",
       "        vertical-align: middle;\n",
       "    }\n",
       "\n",
       "    .dataframe tbody tr th {\n",
       "        vertical-align: top;\n",
       "    }\n",
       "\n",
       "    .dataframe thead th {\n",
       "        text-align: right;\n",
       "    }\n",
       "</style>\n",
       "<table border=\"1\" class=\"dataframe\">\n",
       "  <thead>\n",
       "    <tr style=\"text-align: right;\">\n",
       "      <th></th>\n",
       "      <th>converted</th>\n",
       "      <th>male</th>\n",
       "      <th>female</th>\n",
       "      <th>18-24</th>\n",
       "      <th>24-35</th>\n",
       "      <th>35-50</th>\n",
       "      <th>50-70</th>\n",
       "      <th>70+</th>\n",
       "      <th>white</th>\n",
       "      <th>black</th>\n",
       "      <th>asian</th>\n",
       "      <th>hispanic</th>\n",
       "      <th>high</th>\n",
       "      <th>medium</th>\n",
       "      <th>low</th>\n",
       "    </tr>\n",
       "    <tr>\n",
       "      <th>group</th>\n",
       "      <th></th>\n",
       "      <th></th>\n",
       "      <th></th>\n",
       "      <th></th>\n",
       "      <th></th>\n",
       "      <th></th>\n",
       "      <th></th>\n",
       "      <th></th>\n",
       "      <th></th>\n",
       "      <th></th>\n",
       "      <th></th>\n",
       "      <th></th>\n",
       "      <th></th>\n",
       "      <th></th>\n",
       "      <th></th>\n",
       "    </tr>\n",
       "  </thead>\n",
       "  <tbody>\n",
       "    <tr>\n",
       "      <th>control</th>\n",
       "      <td>106</td>\n",
       "      <td>500.0</td>\n",
       "      <td>500.0</td>\n",
       "      <td>199</td>\n",
       "      <td>223</td>\n",
       "      <td>194</td>\n",
       "      <td>205</td>\n",
       "      <td>179</td>\n",
       "      <td>249</td>\n",
       "      <td>234.0</td>\n",
       "      <td>255.0</td>\n",
       "      <td>262.0</td>\n",
       "      <td>301.0</td>\n",
       "      <td>350.0</td>\n",
       "      <td>349.0</td>\n",
       "    </tr>\n",
       "    <tr>\n",
       "      <th>test</th>\n",
       "      <td>137</td>\n",
       "      <td>531.0</td>\n",
       "      <td>469.0</td>\n",
       "      <td>205</td>\n",
       "      <td>207</td>\n",
       "      <td>204</td>\n",
       "      <td>187</td>\n",
       "      <td>197</td>\n",
       "      <td>231</td>\n",
       "      <td>258.0</td>\n",
       "      <td>256.0</td>\n",
       "      <td>255.0</td>\n",
       "      <td>332.0</td>\n",
       "      <td>329.0</td>\n",
       "      <td>339.0</td>\n",
       "    </tr>\n",
       "  </tbody>\n",
       "</table>\n",
       "</div>"
      ],
      "text/plain": [
       "         converted   male  female  18-24  24-35  35-50  50-70  70+  white  \\\n",
       "group                                                                       \n",
       "control        106  500.0   500.0    199    223    194    205  179    249   \n",
       "test           137  531.0   469.0    205    207    204    187  197    231   \n",
       "\n",
       "         black  asian  hispanic   high  medium    low  \n",
       "group                                                  \n",
       "control  234.0  255.0     262.0  301.0   350.0  349.0  \n",
       "test     258.0  256.0     255.0  332.0   329.0  339.0  "
      ]
     },
     "execution_count": 93,
     "metadata": {},
     "output_type": "execute_result"
    }
   ],
   "source": [
    "table"
   ]
  },
  {
   "cell_type": "code",
   "execution_count": 99,
   "metadata": {},
   "outputs": [
    {
     "data": {
      "text/plain": [
       "(12.641590172199018, 0.5549187908439822)"
      ]
     },
     "execution_count": 99,
     "metadata": {},
     "output_type": "execute_result"
    }
   ],
   "source": [
    "import pandas\n",
    "from scipy.stats import chi2_contingency\n",
    "\n",
    "table_transpose = table.T\n",
    "chi2, pvalue, degrees_of_freedom, expected = chi2_contingency(table_transpose)\n",
    "\n",
    "chi2, pvalue"
   ]
  },
  {
   "cell_type": "markdown",
   "metadata": {},
   "source": [
    "Let's go over the definitions of each of these:\n",
    "\n",
    "* chi2 - this is the test statistic.  It is calculated as a normalized sum of squared deviations between observed and theoretical frequencies.  In the two group setting we can take one as the observation and the other as the theoretical.\n",
    "\n",
    "* p value - this is the probability value of obtaining test results at least as extreme as the results actually observed during the test, assuming the null hypothesis is correct.  So the lower the p value, the more likely we are to reject the null hypothesis.\n",
    "\n",
    "* degress of freedom - since we are doing the test for homogenity, here the degrees of freedom are:\n",
    "\n",
    "$$ df = (Rows - 1) * (Columns -1)  $$ \n",
    "\n",
    "Where Rows := number of categories, aka the rows of the contingency table.\n",
    "\n",
    "Where Columns := number of independent groups\n",
    "\n",
    "Notice, we satisfy this requirement by taking the transpose of the contingency table\n",
    "\n",
    "* expected value - this is the theoretical values for the contingency table, given the null hypothesis is true.\n",
    "\n",
    "### Analyzing Our Test\n",
    "\n",
    "Now let's see what our test tells us about our data.  First let's explicitly state the null hypothesis and alternative hypothesis:\n",
    "\n",
    "* null hypothesis: there exists no relationship between the two groups.  If the null hypothesis is true, then it might be the case that the difference in our conversion rates is significant.\n",
    "\n",
    "* alternative hypothesis: there exists a relationship between the two groups.  In other words, the two groups are statistically similar.  If this is the case, then it might be that the difference in our conversion rates is due to chance.\n",
    "\n",
    "Based on the p-value, it looks like we fail to reject our null hypothesis.  With a test statistic of approximately 12.64, the normalized sum of squared deviations appears large enough that there is no relationship.  This appears to confirm what our contingency table seemed to be telling us.  Let's go a little deeper.\n",
    "\n",
    "Let's next verify, for academic purposes that the degrees of freedom match up with what we expect:"
   ]
  },
  {
   "cell_type": "code",
   "execution_count": 101,
   "metadata": {},
   "outputs": [
    {
     "data": {
      "text/plain": [
       "True"
      ]
     },
     "execution_count": 101,
     "metadata": {},
     "output_type": "execute_result"
    }
   ],
   "source": [
    "degrees_of_freedom == (table.shape[0]-1) * (table.shape[1]-1)"
   ]
  },
  {
   "cell_type": "markdown",
   "metadata": {},
   "source": [
    "Now, just for comparison, let's look at the expected values:"
   ]
  },
  {
   "cell_type": "code",
   "execution_count": 106,
   "metadata": {},
   "outputs": [
    {
     "data": {
      "text/html": [
       "<div>\n",
       "<style scoped>\n",
       "    .dataframe tbody tr th:only-of-type {\n",
       "        vertical-align: middle;\n",
       "    }\n",
       "\n",
       "    .dataframe tbody tr th {\n",
       "        vertical-align: top;\n",
       "    }\n",
       "\n",
       "    .dataframe thead th {\n",
       "        text-align: right;\n",
       "    }\n",
       "</style>\n",
       "<table border=\"1\" class=\"dataframe\">\n",
       "  <thead>\n",
       "    <tr style=\"text-align: right;\">\n",
       "      <th></th>\n",
       "      <th>converted</th>\n",
       "      <th>male</th>\n",
       "      <th>female</th>\n",
       "      <th>18-24</th>\n",
       "      <th>24-35</th>\n",
       "      <th>35-50</th>\n",
       "      <th>50-70</th>\n",
       "      <th>70+</th>\n",
       "      <th>white</th>\n",
       "      <th>black</th>\n",
       "      <th>asian</th>\n",
       "      <th>hispanic</th>\n",
       "      <th>high</th>\n",
       "      <th>medium</th>\n",
       "      <th>low</th>\n",
       "    </tr>\n",
       "    <tr>\n",
       "      <th>group</th>\n",
       "      <th></th>\n",
       "      <th></th>\n",
       "      <th></th>\n",
       "      <th></th>\n",
       "      <th></th>\n",
       "      <th></th>\n",
       "      <th></th>\n",
       "      <th></th>\n",
       "      <th></th>\n",
       "      <th></th>\n",
       "      <th></th>\n",
       "      <th></th>\n",
       "      <th></th>\n",
       "      <th></th>\n",
       "      <th></th>\n",
       "    </tr>\n",
       "  </thead>\n",
       "  <tbody>\n",
       "    <tr>\n",
       "      <th>control</th>\n",
       "      <td>121.043067</td>\n",
       "      <td>513.561325</td>\n",
       "      <td>482.677909</td>\n",
       "      <td>201.240325</td>\n",
       "      <td>214.191435</td>\n",
       "      <td>198.251607</td>\n",
       "      <td>195.26289</td>\n",
       "      <td>187.292976</td>\n",
       "      <td>239.097416</td>\n",
       "      <td>245.074851</td>\n",
       "      <td>254.539124</td>\n",
       "      <td>257.527842</td>\n",
       "      <td>315.309717</td>\n",
       "      <td>338.22322</td>\n",
       "      <td>342.706296</td>\n",
       "    </tr>\n",
       "    <tr>\n",
       "      <th>test</th>\n",
       "      <td>121.956933</td>\n",
       "      <td>517.438675</td>\n",
       "      <td>486.322091</td>\n",
       "      <td>202.759675</td>\n",
       "      <td>215.808565</td>\n",
       "      <td>199.748393</td>\n",
       "      <td>196.73711</td>\n",
       "      <td>188.707024</td>\n",
       "      <td>240.902584</td>\n",
       "      <td>246.925149</td>\n",
       "      <td>256.460876</td>\n",
       "      <td>259.472158</td>\n",
       "      <td>317.690283</td>\n",
       "      <td>340.77678</td>\n",
       "      <td>345.293704</td>\n",
       "    </tr>\n",
       "  </tbody>\n",
       "</table>\n",
       "</div>"
      ],
      "text/plain": [
       "          converted        male      female       18-24       24-35  \\\n",
       "group                                                                 \n",
       "control  121.043067  513.561325  482.677909  201.240325  214.191435   \n",
       "test     121.956933  517.438675  486.322091  202.759675  215.808565   \n",
       "\n",
       "              35-50      50-70         70+       white       black  \\\n",
       "group                                                                \n",
       "control  198.251607  195.26289  187.292976  239.097416  245.074851   \n",
       "test     199.748393  196.73711  188.707024  240.902584  246.925149   \n",
       "\n",
       "              asian    hispanic        high     medium         low  \n",
       "group                                                               \n",
       "control  254.539124  257.527842  315.309717  338.22322  342.706296  \n",
       "test     256.460876  259.472158  317.690283  340.77678  345.293704  "
      ]
     },
     "execution_count": 106,
     "metadata": {},
     "output_type": "execute_result"
    }
   ],
   "source": [
    "pd.DataFrame(expected, columns=table_transpose.columns, index=table_transpose.index).T"
   ]
  },
  {
   "cell_type": "code",
   "execution_count": 108,
   "metadata": {},
   "outputs": [
    {
     "data": {
      "text/html": [
       "<div>\n",
       "<style scoped>\n",
       "    .dataframe tbody tr th:only-of-type {\n",
       "        vertical-align: middle;\n",
       "    }\n",
       "\n",
       "    .dataframe tbody tr th {\n",
       "        vertical-align: top;\n",
       "    }\n",
       "\n",
       "    .dataframe thead th {\n",
       "        text-align: right;\n",
       "    }\n",
       "</style>\n",
       "<table border=\"1\" class=\"dataframe\">\n",
       "  <thead>\n",
       "    <tr style=\"text-align: right;\">\n",
       "      <th></th>\n",
       "      <th>converted</th>\n",
       "      <th>male</th>\n",
       "      <th>female</th>\n",
       "      <th>18-24</th>\n",
       "      <th>24-35</th>\n",
       "      <th>35-50</th>\n",
       "      <th>50-70</th>\n",
       "      <th>70+</th>\n",
       "      <th>white</th>\n",
       "      <th>black</th>\n",
       "      <th>asian</th>\n",
       "      <th>hispanic</th>\n",
       "      <th>high</th>\n",
       "      <th>medium</th>\n",
       "      <th>low</th>\n",
       "    </tr>\n",
       "    <tr>\n",
       "      <th>group</th>\n",
       "      <th></th>\n",
       "      <th></th>\n",
       "      <th></th>\n",
       "      <th></th>\n",
       "      <th></th>\n",
       "      <th></th>\n",
       "      <th></th>\n",
       "      <th></th>\n",
       "      <th></th>\n",
       "      <th></th>\n",
       "      <th></th>\n",
       "      <th></th>\n",
       "      <th></th>\n",
       "      <th></th>\n",
       "      <th></th>\n",
       "    </tr>\n",
       "  </thead>\n",
       "  <tbody>\n",
       "    <tr>\n",
       "      <th>control</th>\n",
       "      <td>106</td>\n",
       "      <td>500.0</td>\n",
       "      <td>500.0</td>\n",
       "      <td>199</td>\n",
       "      <td>223</td>\n",
       "      <td>194</td>\n",
       "      <td>205</td>\n",
       "      <td>179</td>\n",
       "      <td>249</td>\n",
       "      <td>234.0</td>\n",
       "      <td>255.0</td>\n",
       "      <td>262.0</td>\n",
       "      <td>301.0</td>\n",
       "      <td>350.0</td>\n",
       "      <td>349.0</td>\n",
       "    </tr>\n",
       "    <tr>\n",
       "      <th>test</th>\n",
       "      <td>137</td>\n",
       "      <td>531.0</td>\n",
       "      <td>469.0</td>\n",
       "      <td>205</td>\n",
       "      <td>207</td>\n",
       "      <td>204</td>\n",
       "      <td>187</td>\n",
       "      <td>197</td>\n",
       "      <td>231</td>\n",
       "      <td>258.0</td>\n",
       "      <td>256.0</td>\n",
       "      <td>255.0</td>\n",
       "      <td>332.0</td>\n",
       "      <td>329.0</td>\n",
       "      <td>339.0</td>\n",
       "    </tr>\n",
       "  </tbody>\n",
       "</table>\n",
       "</div>"
      ],
      "text/plain": [
       "         converted   male  female  18-24  24-35  35-50  50-70  70+  white  \\\n",
       "group                                                                       \n",
       "control        106  500.0   500.0    199    223    194    205  179    249   \n",
       "test           137  531.0   469.0    205    207    204    187  197    231   \n",
       "\n",
       "         black  asian  hispanic   high  medium    low  \n",
       "group                                                  \n",
       "control  234.0  255.0     262.0  301.0   350.0  349.0  \n",
       "test     258.0  256.0     255.0  332.0   329.0  339.0  "
      ]
     },
     "execution_count": 108,
     "metadata": {},
     "output_type": "execute_result"
    }
   ],
   "source": [
    "table"
   ]
  },
  {
   "cell_type": "markdown",
   "metadata": {},
   "source": [
    "Now let's verify our calculation of test statistic:"
   ]
  },
  {
   "cell_type": "code",
   "execution_count": 115,
   "metadata": {},
   "outputs": [
    {
     "data": {
      "text/plain": [
       "12.641590172199018"
      ]
     },
     "execution_count": 115,
     "metadata": {},
     "output_type": "execute_result"
    }
   ],
   "source": [
    "summation = 0\n",
    "expected_df = pd.DataFrame(\n",
    "    expected, columns=table_transpose.columns, \n",
    "    index=table_transpose.index).T\n",
    "for index, row in table_transpose.iterrows():\n",
    "    for column in table_transpose.columns:\n",
    "        deviation = row[column] - expected_df[index][column]\n",
    "        deviation_squared = deviation ** 2\n",
    "        normed_deviation_squared = deviation_squared / expected_df[index][column]\n",
    "        summation += normed_deviation_squared\n",
    "summation"
   ]
  },
  {
   "cell_type": "code",
   "execution_count": 116,
   "metadata": {},
   "outputs": [
    {
     "data": {
      "text/plain": [
       "True"
      ]
     },
     "execution_count": 116,
     "metadata": {},
     "output_type": "execute_result"
    }
   ],
   "source": [
    "summation == chi2"
   ]
  },
  {
   "cell_type": "markdown",
   "metadata": {},
   "source": [
    "Success!  Now we are sure that we have some belief that our test and control are different, accounting for at least some demographic variables, we are ready to do our final exploration.  \n",
    "\n",
    "This is an important point - if something passes a hypothesis test (or fails) that does not mean that the test is conclusive.  That's why I used the word may.  When you do statistics, machine learning, data science or whatever we are calling it these days, you should build up evidence that you believe your hypothesis is true.  You should imagine perhaps a court room, or some other sort of collection of people, that you have to convince of your results.  \n",
    "\n",
    "Each piece of evidence you bring to the table helps you make your case, but it does not and likely will not lead to a conclusive pattern.  It can only give you more of a chance that your hypothesis is right or wrong.  This is in direct conflict with the business world, where everything usually moves pretty fast.  But, if you build up the right tooling and can replicate the scientific process quickly, you can usually at least develop some confidence in what you are seeing.\n",
    "\n",
    "With this in mind we move onto the next leg in our scientific journey, data visualization.\n",
    "\n",
    "## Visualizing Categorical Data\n"
   ]
  },
  {
   "cell_type": "code",
   "execution_count": 130,
   "metadata": {},
   "outputs": [
    {
     "data": {
      "image/png": "[encoded data removed]",
      "text/plain": [
       "<Figure size 432x288 with 1 Axes>"
      ]
     },
     "metadata": {
      "needs_background": "light"
     },
     "output_type": "display_data"
    }
   ],
   "source": [
    "import seaborn as sns\n",
    "import matplotlib.pyplot as plt\n",
    "\n",
    "gender_data = pd.DataFrame()\n",
    "gender_data = gender_data.append({\n",
    "    \"female\": df[df[\"group\"] == \"test\"][\"female\"].sum(),\n",
    "    \"group\": \"test\"\n",
    "}, ignore_index=True)\n",
    "gender_data = gender_data.append({\n",
    "    \"female\": df[df[\"group\"] == \"control\"][\"female\"].sum(),\n",
    "    \"group\": \"control\"\n",
    "}, ignore_index=True)\n",
    "\n",
    "sns.barplot(x=\"group\", y=\"female\", data=gender_data)\n",
    "plt.show()"
   ]
  },
  {
   "cell_type": "markdown",
   "metadata": {},
   "source": [
    "As you can see it looks like there is a pretty close to even gender split between test and control, so we can probably rule out that lone interaction as the source of our variance."
   ]
  },
  {
   "cell_type": "code",
   "execution_count": 132,
   "metadata": {},
   "outputs": [
    {
     "data": {
      "image/png": "[encoded data removed]",
      "text/plain": [
       "<Figure size 432x288 with 1 Axes>"
      ]
     },
     "metadata": {
      "needs_background": "light"
     },
     "output_type": "display_data"
    }
   ],
   "source": [
    "import seaborn as sns\n",
    "import matplotlib.pyplot as plt\n",
    "\n",
    "ethnicity_data = pd.DataFrame()\n",
    "ethnicity_data = ethnicity_data.append({\n",
    "    \"white\": df[df[\"group\"] == \"test\"][\"white\"].sum(),\n",
    "    \"group\": \"test\"\n",
    "}, ignore_index=True)\n",
    "ethnicity_data = ethnicity_data.append({\n",
    "    \"white\": df[df[\"group\"] == \"control\"][\"white\"].sum(),\n",
    "    \"group\": \"control\"\n",
    "}, ignore_index=True)\n",
    "ethnicity_data = ethnicity_data.append({\n",
    "    \"black\": df[df[\"group\"] == \"control\"][\"black\"].sum(),\n",
    "    \"group\": \"control\"\n",
    "}, ignore_index=True)\n",
    "ethnicity_data = ethnicity_data.append({\n",
    "    \"black\": df[df[\"group\"] == \"test\"][\"black\"].sum(),\n",
    "    \"group\": \"test\"\n",
    "}, ignore_index=True)\n",
    "ethnicity_data = ethnicity_data.append({\n",
    "    \"asian\": df[df[\"group\"] == \"control\"][\"asian\"].sum(),\n",
    "    \"group\": \"control\"\n",
    "}, ignore_index=True)\n",
    "ethnicity_data = ethnicity_data.append({\n",
    "    \"asian\": df[df[\"group\"] == \"test\"][\"asian\"].sum(),\n",
    "    \"group\": \"test\"\n",
    "}, ignore_index=True)\n",
    "ethnicity_data = ethnicity_data.append({\n",
    "    \"hispanic\": df[df[\"group\"] == \"control\"][\"hispanic\"].sum(),\n",
    "    \"group\": \"control\"\n",
    "}, ignore_index=True)\n",
    "ethnicity_data = ethnicity_data.append({\n",
    "    \"hispanic\": df[df[\"group\"] == \"test\"][\"hispanic\"].sum(),\n",
    "    \"group\": \"test\"\n",
    "}, ignore_index=True)\n",
    "\n",
    "sns.barplot(x=\"group\", y=\"white\", data=ethnicity_data)\n",
    "plt.show()"
   ]
  },
  {
   "cell_type": "code",
   "execution_count": 134,
   "metadata": {},
   "outputs": [
    {
     "data": {
      "image/png": "[encoded data removed]",
      "text/plain": [
       "<Figure size 432x288 with 1 Axes>"
      ]
     },
     "metadata": {
      "needs_background": "light"
     },
     "output_type": "display_data"
    }
   ],
   "source": [
    "sns.barplot(x=\"group\", y=\"asian\", data=ethnicity_data)\n",
    "plt.show()"
   ]
  },
  {
   "cell_type": "code",
   "execution_count": 135,
   "metadata": {},
   "outputs": [
    {
     "data": {
      "image/png": "[encoded data removed]",
      "text/plain": [
       "<Figure size 432x288 with 1 Axes>"
      ]
     },
     "metadata": {
      "needs_background": "light"
     },
     "output_type": "display_data"
    }
   ],
   "source": [
    "sns.barplot(x=\"group\", y=\"hispanic\", data=ethnicity_data)\n",
    "plt.show()"
   ]
  },
  {
   "cell_type": "markdown",
   "metadata": {},
   "source": [
    "The three groups:\n",
    "* white\n",
    "* asian\n",
    "* hispanic \n",
    "\n",
    "all appear to have very little variation.  However, as we can see below, the difference in size between black folks from test and control appears to be different.  "
   ]
  },
  {
   "cell_type": "code",
   "execution_count": 133,
   "metadata": {},
   "outputs": [
    {
     "data": {
      "image/png": "[encoded data removed]",
      "text/plain": [
       "<Figure size 432x288 with 1 Axes>"
      ]
     },
     "metadata": {
      "needs_background": "light"
     },
     "output_type": "display_data"
    }
   ],
   "source": [
    "sns.barplot(x=\"group\", y=\"black\", data=ethnicity_data)\n",
    "plt.show()"
   ]
  },
  {
   "cell_type": "markdown",
   "metadata": {},
   "source": [
    "It's worth it to note that because this data was entirely randomly generated, there is no implicit data generation process to analyze, but if this were the real world, I would say this information warrants further inquiry.  In fact, if this were the real world, it may be enough evidence to explain the variation in the difference between test and control.  We will look at how we would measure that next.  But do keep in mind, we may not find anything in this case because the data was randomly generated.  And in fact, any conclusions we do draw will be entirely by chance.\n",
    "\n"
   ]
  },
  {
   "cell_type": "code",
   "execution_count": 149,
   "metadata": {},
   "outputs": [],
   "source": [
    "black_data = df[[\"black\", \"converted\", \"group\"]]\n",
    "\n",
    "t = ~black_data[\"converted\"].astype(bool)\n",
    "t.map({True: 1, False: 0})\n",
    "\n",
    "black_data[\"black_converted\"] = black_data[\"black\"] & black_data[\"converted\"]\n",
    "black_data[\"other_converted\"] = ~black_data[\"black\"] & black_data[\"converted\"]\n",
    "black_data[\"black_not_converted\"] = black_data[\"black\"] & ~black_data[\"converted\"]\n",
    "black_data[\"other_not_converted\"] = ~black_data[\"black\"] & ~black_data[\"converted\"]\n",
    "\n",
    "#sns.countplot(x=\"group\", hue=\"black_converted\", data=black_data)"
   ]
  },
  {
   "cell_type": "code",
   "execution_count": 145,
   "metadata": {},
   "outputs": [
    {
     "data": {
      "text/plain": [
       "<matplotlib.axes._subplots.AxesSubplot at 0x7fa5883b3898>"
      ]
     },
     "execution_count": 145,
     "metadata": {},
     "output_type": "execute_result"
    },
    {
     "data": {
      "image/png": "[encoded data removed]",
      "text/plain": [
       "<Figure size 432x288 with 1 Axes>"
      ]
     },
     "metadata": {
      "needs_background": "light"
     },
     "output_type": "display_data"
    }
   ],
   "source": [
    "sns.countplot(x=\"group\", hue=\"black_not_converted\", data=black_data)"
   ]
  },
  {
   "cell_type": "code",
   "execution_count": 143,
   "metadata": {},
   "outputs": [
    {
     "data": {
      "text/plain": [
       "<matplotlib.axes._subplots.AxesSubplot at 0x7fa58843d198>"
      ]
     },
     "execution_count": 143,
     "metadata": {},
     "output_type": "execute_result"
    },
    {
     "data": {
      "image/png": "[encoded data removed]",
      "text/plain": [
       "<Figure size 432x288 with 1 Axes>"
      ]
     },
     "metadata": {
      "needs_background": "light"
     },
     "output_type": "display_data"
    }
   ],
   "source": [
    "sns.countplot(x=\"group\", hue=\"other_converted\", data=black_data)"
   ]
  },
  {
   "cell_type": "code",
   "execution_count": 146,
   "metadata": {},
   "outputs": [
    {
     "data": {
      "text/plain": [
       "<matplotlib.axes._subplots.AxesSubplot at 0x7fa588464be0>"
      ]
     },
     "execution_count": 146,
     "metadata": {},
     "output_type": "execute_result"
    },
    {
     "data": {
      "image/png": "[encoded data removed]",
      "text/plain": [
       "<Figure size 432x288 with 1 Axes>"
      ]
     },
     "metadata": {
      "needs_background": "light"
     },
     "output_type": "display_data"
    }
   ],
   "source": [
    "sns.countplot(x=\"group\", hue=\"other_not_converted\", data=black_data)"
   ]
  },
  {
   "cell_type": "code",
   "execution_count": null,
   "metadata": {},
   "outputs": [],
   "source": []
  }
 ],
 "metadata": {
  "kernelspec": {
   "display_name": "Python 3",
   "language": "python",
   "name": "python3"
  },
  "language_info": {
   "codemirror_mode": {
    "name": "ipython",
    "version": 3
   },
   "file_extension": ".py",
   "mimetype": "text/x-python",
   "name": "python",
   "nbconvert_exporter": "python",
   "pygments_lexer": "ipython3",
   "version": "3.6.9"
  }
 },
 "nbformat": 4,
 "nbformat_minor": 2
}
