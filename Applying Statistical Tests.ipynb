{
 "cells": [
  {
   "cell_type": "markdown",
   "metadata": {},
   "source": [
    "# Applied Statistical Tests\n",
    "\n",
    "In the previous chapter we introduced descriptive statistics and hypothesis testing.  In this chapter we will make extensive use of the concepts covered to introduce you to:\n",
    "\n",
    "* A/B testing\n",
    "* Multivariate testing\n",
    "\n",
    "## A/B Testing\n",
    "\n",
    "The foundational idea behind A/B testing is, what if we changed just one thing, would that matter?  More specifically, what if we presented two variants of one thing to a group of people, would there be a difference?\n",
    "\n",
    "Let's start with an example.\n",
    "\n",
    "### Inquiry\n",
    "\n",
    "Suppose you work for a company that makes towels, and they want to send an email, like they've done many times in the past, to see how much this email affects sale of their towels.  Now let's say that, in the past 10 percent of the people sent the email bought a towel.  But, we aren't sure if this email maximizes profits.  In other words, would a different email mean we make more profit?  \n",
    "\n",
    "### Set Up\n",
    "\n",
    "In order to test this question, we can set up an experiment.  Here we will set up a randomized test group and a randomized control group.  \n",
    "\n",
    "The test group will be sent an email, with slightly different copy, or possibly with a picture.  Some specific change will be made, in any event.\n",
    "\n",
    "The control group will get the same email as last time.  This way, we can directly compare, as much as possible between the old email and the new one.  There are many things you typically need to control for, or account for in experimental design.  Some things to account for in this scenario are:\n",
    "\n",
    "1) Age\n",
    "\n",
    "2) Gender\n",
    "\n",
    "3) Location\n",
    "\n",
    "4) Time of Day\n",
    "\n",
    "5) Time of Year\n",
    "\n",
    "6) Approximate Disposable Income\n",
    "\n",
    "By setting up the experiment with a test and control group, we account for time of day and time of year directly.  Some of the other information like location, age, gender, and approximate disposable income; we may not be able to account for.  Some of this may be accounted by selecting randomly from our population.  But there is no guarantee of that.  It is best to account for as many variables of interest as you can, while remaining ethical.  We will cover the ethics of variable accounting in the next section in detail.\n",
    "\n",
    "### Running Our Example\n",
    "\n",
    "In order to evaluate our set up, we will assume that our conversion rate follows a Bernoulli random variable.\n",
    "\n",
    "### Bernoulli Random Variables\n",
    "\n",
    "Informally, we can think of a Bernoulli random variable as a model for the set of possible outcomes of any single experiment.\n",
    "\n",
    "Specifically, a Bernoulli random variable takes on value '1' with probably `p`, and value '0' with probability `1-p`.  \n",
    "\n",
    "For our case, a value of '1' represents a person who chose to buy a towel by going to the website after reading our email.  The value of '0' represents no towel being bought after reading our email.\n",
    "\n",
    "### An Aside Regarding Assumptions\n",
    "\n",
    "By setting up our experiment in this way, we have actually assumed quiet a bit.  Let's formally state our assumptions here.  It is good practice, generally speaking to always list out your assumptions and confirm with a domain experiment, someone who knows the problem, but maybe not the statistics, before caring out any experiments.  If you work in a place where tasks are created for you, then before you get started, it's a good idea to confirm with the person who created the task, to make sure you are both aligned on assumptions.\n",
    "\n",
    "### Making Our Assumptions Explicit\n",
    "\n",
    "1) We assume here that the only reason a person would buy a towel is because of this email.\n",
    "\n",
    "This is a pretty strong assumption.  Specifically we are only looking at the marginal effect of changing the language in an email.  It could be the case that our entire control group or our entire test group happened to need a new towel, and this email reminded them.  It could be all of the people in group one or group two just moved, and didn't have _any_ towels.  Or it could be that everyone in a group always buys things due to a sale.  \n",
    "\n",
    "We could control for some of this stuff, which will be touched upon in a later section.  But for now, we aren't controlling for any of it.  \n",
    "\n",
    "2) We assume non-uniformity of preferences.\n",
    "\n",
    "A preference is a propensity or likelihood to consume a product, given the choice to consume it and the ability.  So if you are more likely to consume chocolate ice cream over vanilla ice cream given the choice between the two, and the money to buy either, then we say you have a preference for chocolate ice cream.\n",
    "\n",
    "By assuming non-uniformity of preferences, we are saying, implicitly that there is some utility function for towels for each individual.  And that at price `towel_price`, you will not buy, because it would cost more than the utility you would derive.  But at price `towel_sale_price`, you will buy, because it would cost less than the utility you would derive.\n",
    "\n",
    "3) We assume evenly distributed life circumstances.\n",
    "\n",
    "We assume everyone on this email is capable of buying a towel from us.  This may seem like a riddiculous assumption, but what it's really not.  You have no idea what circumstance someone is in.\n",
    "\n",
    "4) We assume evenly distributed access to the email\n",
    "\n",
    "What if everyone who didn't buy a towel deactivated their email, or died, or doesn't speak english, or possibly, that their email client filtered out the email.  If we don't know for sure, we don't know the effectiveness of the email campaign.\n",
    "\n",
    "The reason it's important to explicitly state your assumptions, is not necessarily for the code itself.  Although it can inform the tests you run or the models you create.  The most important reason to write down your assumptions is for future people working with your code, which is more often than not yourself, as well as for your managers.  \n",
    "\n",
    "## Simulating Some Data"
   ]
  },
  {
   "cell_type": "code",
   "execution_count": 14,
   "metadata": {},
   "outputs": [],
   "source": [
    "from scipy import stats\n",
    "\n",
    "test_size = 1000\n",
    "control_size = 1000\n",
    "test_probability = 0.15\n",
    "control_probability = 0.1\n",
    "test_dist = stats.bernoulli(test_probability)\n",
    "control_dist = stats.bernoulli(control_probability)"
   ]
  },
  {
   "cell_type": "markdown",
   "metadata": {},
   "source": [
    "Note: we don't actually know the test probability, so \"pretend\" you can't see it.  We wouldn't know this for the population in the real world.  Also, we probably can't be \"sure\" our process follows a Bernoulli random variable.  It could be some other generative process, like this:"
   ]
  },
  {
   "cell_type": "code",
   "execution_count": 21,
   "metadata": {},
   "outputs": [
    {
     "data": {
      "text/plain": [
       "[0, 0, 1, 0, 1, 1, 1, 1, 1, 0]"
      ]
     },
     "execution_count": 21,
     "metadata": {},
     "output_type": "execute_result"
    }
   ],
   "source": [
    "import random\n",
    "\n",
    "def generative_process():\n",
    "    random_number = random.randint(0, 100)\n",
    "    if random_number < 15:\n",
    "        return 1\n",
    "    elif random_number % 2 == 0:\n",
    "        return 0\n",
    "    else:\n",
    "        return 1\n",
    "    \n",
    "[generative_process() for _ in range(10)]"
   ]
  },
  {
   "cell_type": "markdown",
   "metadata": {},
   "source": [
    "The important difference here is there are multiple cases by which our generative process outputs a '1', which we may be important!  The more you know about your underlying data generation process, the better.  But usually it is impossible to discern this.  The important thing to note is, this is an assumption."
   ]
  },
  {
   "cell_type": "code",
   "execution_count": 16,
   "metadata": {},
   "outputs": [],
   "source": [
    "import pandas as pd\n",
    "import numpy as np\n",
    "\n",
    "test_df = pd.DataFrame()\n",
    "test_df[\"converted\"] = test_dist.rvs(size=test_size)\n",
    "test_df[\"group\"] = \"test\"\n",
    "control_df = pd.DataFrame()\n",
    "control_df[\"converted\"] = control_dist.rvs(size=control_size)\n",
    "control_df[\"group\"] = \"control\"\n",
    "df = test_df.append(control_df)"
   ]
  },
  {
   "cell_type": "code",
   "execution_count": 18,
   "metadata": {},
   "outputs": [
    {
     "data": {
      "text/html": [
       "<div>\n",
       "<style scoped>\n",
       "    .dataframe tbody tr th:only-of-type {\n",
       "        vertical-align: middle;\n",
       "    }\n",
       "\n",
       "    .dataframe tbody tr th {\n",
       "        vertical-align: top;\n",
       "    }\n",
       "\n",
       "    .dataframe thead th {\n",
       "        text-align: right;\n",
       "    }\n",
       "</style>\n",
       "<table border=\"1\" class=\"dataframe\">\n",
       "  <thead>\n",
       "    <tr style=\"text-align: right;\">\n",
       "      <th></th>\n",
       "      <th>converted</th>\n",
       "      <th>total</th>\n",
       "      <th>rate</th>\n",
       "    </tr>\n",
       "    <tr>\n",
       "      <th>group</th>\n",
       "      <th></th>\n",
       "      <th></th>\n",
       "      <th></th>\n",
       "    </tr>\n",
       "  </thead>\n",
       "  <tbody>\n",
       "    <tr>\n",
       "      <th>control</th>\n",
       "      <td>92</td>\n",
       "      <td>1000</td>\n",
       "      <td>0.092</td>\n",
       "    </tr>\n",
       "    <tr>\n",
       "      <th>test</th>\n",
       "      <td>132</td>\n",
       "      <td>1000</td>\n",
       "      <td>0.132</td>\n",
       "    </tr>\n",
       "  </tbody>\n",
       "</table>\n",
       "</div>"
      ],
      "text/plain": [
       "         converted  total   rate\n",
       "group                           \n",
       "control         92   1000  0.092\n",
       "test           132   1000  0.132"
      ]
     },
     "execution_count": 18,
     "metadata": {},
     "output_type": "execute_result"
    }
   ],
   "source": [
    "summary = df.pivot_table(values='converted', index='group', aggfunc=np.sum)\n",
    "# add additional columns to the pivot table\n",
    "summary['total'] = df.pivot_table(values='converted', index='group', aggfunc=lambda x: len(x))\n",
    "summary['rate'] = df.pivot_table(values='converted', index='group')\n",
    "summary"
   ]
  },
  {
   "cell_type": "markdown",
   "metadata": {},
   "source": [
    "We may believe our test was successful at this point, and in fact, we are done.  However, there is still much to do!  \n",
    "\n"
   ]
  }
 ],
 "metadata": {
  "kernelspec": {
   "display_name": "Python 3",
   "language": "python",
   "name": "python3"
  },
  "language_info": {
   "codemirror_mode": {
    "name": "ipython",
    "version": 3
   },
   "file_extension": ".py",
   "mimetype": "text/x-python",
   "name": "python",
   "nbconvert_exporter": "python",
   "pygments_lexer": "ipython3",
   "version": "3.6.9"
  }
 },
 "nbformat": 4,
 "nbformat_minor": 2
}
